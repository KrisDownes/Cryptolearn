{
 "cells": [
  {
   "cell_type": "code",
   "execution_count": 1,
   "id": "c19e30f0",
   "metadata": {},
   "outputs": [
    {
     "name": "stdout",
     "output_type": "stream",
     "text": [
      "b\"the kid don't play\"\n"
     ]
    }
   ],
   "source": [
    "b1 = bytearray.fromhex(\"1c0111001f010100061a024b53535009181c\")\n",
    "b2 = bytearray.fromhex(\"686974207468652062756c6c277320657965\")\n",
    "def xor_hex(x,y):\n",
    "    result = []\n",
    "    for i in range(len(x)):\n",
    "        result.append(x[i] ^ y[i])\n",
    "    return result    \n",
    "\n",
    "check = bytes(xor_hex(b1,b2))\n",
    "print(check.lower())"
   ]
  },
  {
   "cell_type": "code",
   "execution_count": 2,
   "id": "1444c60f",
   "metadata": {},
   "outputs": [],
   "source": [
    "def xor_decypher(x):\n",
    "    import numpy as np\n",
    "    tsets = bytearray.fromhex(x)\n",
    "    win_array = np.zeros(256)\n",
    "    results = [None] * 256\n",
    "    for i in range(256):\n",
    "        key_test = [i] * len(tsets)\n",
    "        result = bytes(xor_hex(tsets,key_test)).lower()\n",
    "        try:\n",
    "            results[i] = result.decode(\"ASCII\")\n",
    "        except UnicodeDecodeError:\n",
    "            pass\n",
    "        win_array[i] = scoring(result)\n",
    "        win_array[i] = 0 if np.isnan(win_array[i]) else win_array[i]\n",
    "\n",
    "    max_prob = win_array.argmax()\n",
    "    key = chr(max_prob)\n",
    "    plaintext = results[max_prob]\n",
    "    return key,plaintext\n"
   ]
  },
  {
   "cell_type": "code",
   "execution_count": 3,
   "id": "f6188031",
   "metadata": {},
   "outputs": [],
   "source": [
    "occurance_english = {\n",
    "    'a': 8.2389258,    'b': 1.5051398,    'c': 2.8065007,    'd': 4.2904556,\n",
    "    'e': 12.813865,    'f': 2.2476217,    'g': 2.0327458,    'h': 6.1476691,\n",
    "    'i': 6.1476691,    'j': 0.1543474,    'k': 0.7787989,    'l': 4.0604477,\n",
    "    'm': 2.4271893,    'n': 6.8084376,    'o': 7.5731132,    'p': 1.9459884,\n",
    "    'q': 0.0958366,    'r': 6.0397268,    's': 6.3827211,    't': 9.1357551,\n",
    "    'u': 2.7822893,    'v': 0.9866131,    'w': 2.3807842,    'x': 0.1513210,\n",
    "    'y': 1.9913847,    'z': 0.0746517,    ' ': 100\n",
    "}"
   ]
  },
  {
   "cell_type": "code",
   "execution_count": 4,
   "id": "30c9a2f7",
   "metadata": {},
   "outputs": [],
   "source": [
    "def scoring(x):\n",
    "    prob = 0\n",
    "    try:\n",
    "        for i in x.decode(\"ASCII\"):\n",
    "            if i in occurance_english.keys():\n",
    "                prob += occurance_english[i]\n",
    "        return prob\n",
    "    except UnicodeDecodeError:\n",
    "        pass"
   ]
  },
  {
   "cell_type": "code",
   "execution_count": 6,
   "id": "f7696193",
   "metadata": {},
   "outputs": [],
   "source": [
    "def edit_dist(x,y):\n",
    "    test_str1 = str(x)\n",
    "    test_str2 = str(y)\n",
    "    test1_len = len(test_str1)\n",
    "    test2_len = len(test_str2)\n",
    "    loop_len = test1_len if test1_len < test2_len else test2_len\n",
    "    diff = 0\n",
    "    for i in range(loop_len):\n",
    "        temp_len = len(bin(ord(test_str1[i]))) if len(bin(ord(test_str1[i]))) > len(bin(ord(test_str2[i]))) else len(bin(ord(test_str2[i])))\n",
    "        if len(bin(ord(test_str1[i]))) != len(bin(ord(test_str2[i]))):\n",
    "            if len(bin(ord(test_str1[i]))) != 9:\n",
    "                temp_str1 = bin(ord(test_str1[i]))[:2] + \"0\" + bin(ord(test_str1[i]))[2:]\n",
    "                for k in range(temp_len):\n",
    "                    if temp_str1[k] != bin(ord(test_str2[i]))[k]:\n",
    "                        diff +=1\n",
    "            if len(bin(ord(test_str2[i]))) != 9:\n",
    "                temp_str2 = bin(ord(test_str2[i]))[:2] + \"0\" + bin(ord(test_str2[i]))[2:]\n",
    "                for k in range(temp_len):\n",
    "                    if temp_str2[k] != bin(ord(test_str1[i]))[k]:\n",
    "                        diff +=1\n",
    "        else:\n",
    "            for k in range((temp_len)):\n",
    "                if bin(ord(test_str1[i]))[k] != bin(ord(test_str2[i]))[k]:\n",
    "                    diff += 1\n",
    "    return diff   "
   ]
  },
  {
   "cell_type": "code",
   "execution_count": 7,
   "id": "ef52c411",
   "metadata": {},
   "outputs": [],
   "source": [
    "import base64\n",
    "data6 = requests.get('https://cryptopals.com/static/challenge-data/6.txt')"
   ]
  },
  {
   "cell_type": "code",
   "execution_count": 8,
   "id": "480241ec",
   "metadata": {},
   "outputs": [
    {
     "name": "stdout",
     "output_type": "stream",
     "text": [
      "[(2, 27.0), (3, 45.0), (16, 47.4375), (15, 54.4), (29, 56.48275862068965), (28, 56.57142857142857), (30, 57.300000000000004), (33, 57.36363636363636), (32, 57.375), (17, 57.529411764705884), (9, 58.0), (10, 59.099999999999994), (4, 59.25), (24, 59.75), (14, 59.78571428571428), (19, 59.84210526315789), (31, 60.29032258064517), (34, 60.35294117647059), (12, 60.5), (37, 61.216216216216225), (25, 61.32000000000001), (26, 61.38461538461538), (23, 61.69565217391305), (27, 61.77777777777777), (18, 61.83333333333333), (8, 61.875), (36, 62.0), (22, 62.59090909090909), (38, 64.89473684210526), (21, 65.42857142857143), (20, 66.0), (5, 66.6), (35, 66.77142857142857), (7, 68.57142857142857), (6, 71.0), (39, 71.3076923076923), (11, 73.63636363636364), (13, 81.0)]\n"
     ]
    }
   ],
   "source": [
    "normalized_distances = []\n",
    "for keysize in range(2,40):\n",
    "    L1 = (base64.b64decode(data6.text))[:keysize]\n",
    "    L2 = (base64.b64decode(data6.text))[keysize:keysize * 2]\n",
    "    L3 = (base64.b64decode(data6.text))[keysize*2:keysize * 3]\n",
    "    L4 = (base64.b64decode(data6.text))[keysize*3:keysize * 4]\n",
    "    normalized_dist = float(((edit_dist(L1,L2)) + (edit_dist(L2,L3)) + (edit_dist(L3,L4))) / keysize*3)\n",
    "    normalized_distances.append((keysize,normalized_dist))\n",
    "    \n",
    "\n",
    "normalized_distances = sorted(normalized_distances, key=lambda x:x[1])\n",
    "print(normalized_distances)"
   ]
  },
  {
   "cell_type": "code",
   "execution_count": 9,
   "id": "ab057a20",
   "metadata": {},
   "outputs": [],
   "source": [
    "arr1 =[]\n",
    "for y in range(0,len((base64.b64decode(data6.text)).hex()),2):\n",
    "    arr1.append((base64.b64decode(data6.text)).hex()[y:y+2])\n",
    "    \n",
    " "
   ]
  },
  {
   "cell_type": "code",
   "execution_count": 11,
   "id": "2af8a0b6",
   "metadata": {},
   "outputs": [
    {
     "name": "stdout",
     "output_type": "stream",
     "text": [
      "Terminator X: Bring the noise\n"
     ]
    }
   ],
   "source": [
    "blks = [[] for _ in range(29)]\n",
    "for i,hexi in enumerate(arr1):\n",
    "    blks[i%29].append(hexi)\n",
    "keys = \"\"\n",
    "for i in range(29):\n",
    "    tempstr1 = \"\".join(ele for ele in blks[i])\n",
    "    results =xor_decypher(tempstr1)\n",
    "    keys += results[0]\n",
    "\n",
    "print(keys)"
   ]
  }
 ],
 "metadata": {
  "kernelspec": {
   "display_name": "Python 3",
   "language": "python",
   "name": "python3"
  },
  "language_info": {
   "codemirror_mode": {
    "name": "ipython",
    "version": 3
   },
   "file_extension": ".py",
   "mimetype": "text/x-python",
   "name": "python",
   "nbconvert_exporter": "python",
   "pygments_lexer": "ipython3",
   "version": "3.8.8"
  }
 },
 "nbformat": 4,
 "nbformat_minor": 5
}
